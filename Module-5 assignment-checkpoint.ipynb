{
 "cells": [
  {
   "cell_type": "code",
   "execution_count": 0,
   "metadata": {
    "colab": {},
    "colab_type": "code",
    "id": "Afczo2kvlvLs"
   },
   "outputs": [],
   "source": [
    "import seaborn as sns\n",
    "import numpy as np\n",
    "import matplotlib.pyplot as plt\n",
    "import pandas as pd\n",
    "import warnings\n",
    "warnings.simplefilter('ignore')\n",
    "#plt.style.use('dark_background')"
   ]
  },
  {
   "cell_type": "code",
   "execution_count": 0,
   "metadata": {
    "colab": {},
    "colab_type": "code",
    "id": "ERif6C_Tofrf"
   },
   "outputs": [],
   "source": [
    "data = pd.read_csv('Transformed_Housing_Data2.csv')\n",
    "data.head()"
   ]
  },
  {
   "cell_type": "markdown",
   "metadata": {
    "colab_type": "text",
    "id": "yCq5P-oNx-Lm"
   },
   "source": [
    "# Task:\n",
    "1. To create a mean regression model based on \"No of Floors\" column and call it \"floor_mean\"\n",
    "2. To compare the residual plots of overall \"mean_sales\" and \"floor_mean\".\n",
    "3. To calculate the R-Square value for \"floor_mean\" model manually without using sklearn."
   ]
  },
  {
   "cell_type": "markdown",
   "metadata": {
    "colab_type": "text",
    "id": "5oE6vqm-G9jC"
   },
   "source": [
    "## 1. To create \"floor_mean\" column"
   ]
  },
  {
   "cell_type": "code",
   "execution_count": 0,
   "metadata": {
    "colab": {},
    "colab_type": "code",
    "id": "DlIjYuLuv1qZ"
   },
   "outputs": [],
   "source": [
    "data['mean_sales'] = data['Sale_Price'].mean()\n",
    "data['mean_sales'].head()"
   ]
  },
  {
   "cell_type": "code",
   "execution_count": 0,
   "metadata": {
    "colab": {},
    "colab_type": "code",
    "id": "5gy5zzzzKoIF"
   },
   "outputs": [],
   "source": [
    "## To check the unique values in column \"No of Floors\"\n",
    "\n",
    "###### Start code ######\n",
    "\n",
    "###### End code ######"
   ]
  },
  {
   "cell_type": "markdown",
   "metadata": {
    "colab_type": "text",
    "id": "X5KloWFR1fHb"
   },
   "source": [
    "### Expected Output\n",
    "\n",
    "\n",
    "```\n",
    "array([1. , 2. , 1.5, 3. , 2.5, 3.5])\n",
    "```\n"
   ]
  },
  {
   "cell_type": "code",
   "execution_count": 0,
   "metadata": {
    "colab": {},
    "colab_type": "code",
    "id": "mAr6w04Jx0aD"
   },
   "outputs": [],
   "source": [
    "## Using pandas.pivot_table() to calculate the \"floor_mean\"\n",
    "\n",
    "### Start code ###\n",
    "floor_mean = None\n",
    "### End code ###\n",
    "floor_mean"
   ]
  },
  {
   "cell_type": "markdown",
   "metadata": {
    "colab_type": "text",
    "id": "-wM4pgiJ2rlb"
   },
   "source": [
    "### Expected Output\n",
    "<img src=\"images/image1.png\">"
   ]
  },
  {
   "cell_type": "code",
   "execution_count": 0,
   "metadata": {
    "colab": {},
    "colab_type": "code",
    "id": "Q2RgYYBAwfnb"
   },
   "outputs": [],
   "source": [
    "# making new column\n",
    "data['floor_mean'] = 0\n",
    "\n",
    "# for every unique floor_mean, fill its mean price in new column \"floor_mean\"\n",
    "for i in floor_mean.columns:\n",
    "  ### start code ###\n",
    "  \n",
    "  ### end code ###\n",
    "\n",
    "data['floor_mean'].head()"
   ]
  },
  {
   "cell_type": "markdown",
   "metadata": {
    "colab_type": "text",
    "id": "xYD_tEKYG112"
   },
   "source": [
    "## 2. To Compare Residual plots"
   ]
  },
  {
   "cell_type": "markdown",
   "metadata": {
    "colab_type": "text",
    "id": "oTuyUztl_veT"
   },
   "source": [
    "### Expected Output\n",
    "<img src=\"images/image2.png\">"
   ]
  },
  {
   "cell_type": "code",
   "execution_count": 0,
   "metadata": {
    "colab": {},
    "colab_type": "code",
    "id": "jrtHbqPBcVDH"
   },
   "outputs": [],
   "source": [
    "## Calculating residuals floor_mean_difference and mean_difference\n",
    "### start code###\n",
    "mean_difference = None\n",
    "floor_mean_difference = None\n",
    "### end code ###\n",
    "mean_difference.size, floor_mean_difference.size"
   ]
  },
  {
   "cell_type": "markdown",
   "metadata": {
    "colab_type": "text",
    "id": "-8Lj06bRDDzM"
   },
   "source": [
    "### Expected Outcome\n",
    "<img src=\"images/image3.png\">"
   ]
  },
  {
   "cell_type": "code",
   "execution_count": 0,
   "metadata": {
    "colab": {},
    "colab_type": "code",
    "id": "zZkZcyi2c2m7"
   },
   "outputs": [],
   "source": [
    "## Plotting the Residuals for comparison\n",
    "\n",
    "k = range(0, len(data)) # for x axis\n",
    "l = [0 for i in range(len(data))] # for regression line in residual plot\n",
    "\n",
    "plt.figure( figsize = (15,6), dpi =100)\n",
    "\n",
    "################## plot for Overall Mean ####################\n",
    "plt.subplot(1,2,1)\n",
    "#code to create the residual of mean regression model along with regression line\n",
    "### start code ###\n",
    "plt.scatter()\n",
    "plt.plot()\n",
    "### end code ###\n",
    "plt.xlabel('Fitted points')\n",
    "plt.ylabel(\"Residuals\")\n",
    "plt.title('Residuals with respect to Overall Mean')\n",
    "\n",
    "\n",
    "################## plot for Overall Mean ####################\n",
    "plt.subplot(1,2,2)\n",
    "#code to create the residual of floor mean regression model along with regression line\n",
    "### start code ###\n",
    "plt.scatter()\n",
    "plt.plot()\n",
    "### end code ###\n",
    "plt.xlabel('Fitted points')\n",
    "plt.ylabel(\"Residuals\")\n",
    "plt.title(\"Residuals with respect to Number of Floors\")\n",
    "\n",
    "plt.legend()"
   ]
  },
  {
   "cell_type": "markdown",
   "metadata": {
    "colab_type": "text",
    "id": "4fFNHUVkF3DU"
   },
   "source": [
    "### Expected Outcome\n",
    "<img src=\"images/image4.png\">"
   ]
  },
  {
   "cell_type": "markdown",
   "metadata": {
    "colab_type": "text",
    "id": "iDpTUqxRGzAS"
   },
   "source": [
    "## 3. To calculate $R^2$ value of the \"floor_mean\" model manually\n",
    "<img src=\"images/image5.png\">"
   ]
  },
  {
   "cell_type": "code",
   "execution_count": 0,
   "metadata": {
    "colab": {},
    "colab_type": "code",
    "id": "qOd5hN9xcvUG"
   },
   "outputs": [],
   "source": [
    "## Calculate mean square error for overall mean regression model and call it MSE 1\n",
    "### start code ###\n",
    "MSE1 = None\n",
    "### end code ###\n",
    "\n",
    "## Calculate mean square error for floor mean regression model and call it MSE 2\n",
    "### start code ###\n",
    "MSE2 = None\n",
    "### end code ###\n",
    "\n",
    "## calculate R-Square value using the formula and call it R2\n",
    "### start code ###\n",
    "R2 = None\n",
    "### end code ###\n",
    "R2"
   ]
  },
  {
   "cell_type": "markdown",
   "metadata": {
    "colab_type": "text",
    "id": "e_vUdixgYBwm"
   },
   "source": [
    "### Expected Outcome\n",
    "<img src=\"images/image6.png\">"
   ]
  },
  {
   "cell_type": "code",
   "execution_count": 0,
   "metadata": {
    "colab": {},
    "colab_type": "code",
    "id": "KXRs14RJJXCT"
   },
   "outputs": [],
   "source": []
  }
 ],
 "metadata": {
  "colab": {
   "collapsed_sections": [],
   "name": "Exercise.ipynb",
   "provenance": []
  },
  "kernelspec": {
   "display_name": "Python 3",
   "language": "python",
   "name": "python3"
  },
  "language_info": {
   "codemirror_mode": {
    "name": "ipython",
    "version": 3
   },
   "file_extension": ".py",
   "mimetype": "text/x-python",
   "name": "python",
   "nbconvert_exporter": "python",
   "pygments_lexer": "ipython3",
   "version": "3.8.5"
  }
 },
 "nbformat": 4,
 "nbformat_minor": 1
}
